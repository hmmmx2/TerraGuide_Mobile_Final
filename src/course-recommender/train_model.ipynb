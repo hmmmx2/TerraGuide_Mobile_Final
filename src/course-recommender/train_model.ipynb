{
 "cells": [
  {
   "metadata": {
    "ExecuteTime": {
     "end_time": "2025-05-26T21:15:42.838509Z",
     "start_time": "2025-05-26T21:15:42.125032Z"
    }
   },
   "cell_type": "code",
   "source": [
    "import pandas as pd\n",
    "import numpy as np\n",
    "import pickle\n",
    "import json\n",
    "from sklearn.decomposition import NMF\n",
    "from sklearn.neighbors import NearestNeighbors\n",
    "from sklearn.metrics.pairwise import cosine_similarity\n",
    "from sklearn.model_selection import train_test_split\n",
    "from sklearn.metrics import mean_absolute_error\n",
    "import warnings\n",
    "warnings.filterwarnings('ignore')"
   ],
   "id": "initial_id",
   "outputs": [],
   "execution_count": 1
  },
  {
   "metadata": {},
   "cell_type": "markdown",
   "source": "## 1. LOAD AND PROCESS DATA",
   "id": "c697b3056f1e410c"
  },
  {
   "metadata": {
    "ExecuteTime": {
     "end_time": "2025-05-26T21:15:42.871739Z",
     "start_time": "2025-05-26T21:15:42.842472Z"
    }
   },
   "cell_type": "code",
   "source": [
    "df = pd.read_csv('data/semenggoh_guide_survey_data_20250524_233725.csv')\n",
    "df"
   ],
   "id": "1efde0137e97f5d3",
   "outputs": [
    {
     "data": {
      "text/plain": [
       "         Guide_ID  Q1  Q2  Q3  Q4  Q5  Q6  Q7  Q8  Q9  ...  Q24  Q25  Q26  \\\n",
       "0      GUIDE_0002   2   3   3   4   2   2   2   2   1  ...    3    2    2   \n",
       "1      GUIDE_0002   4   3   4   4   4   4   3   3   3  ...    3    3    3   \n",
       "2      GUIDE_0002   4   3   3   2   2   3   3   2   3  ...    2    3    2   \n",
       "3      GUIDE_0002   1   2   4   2   2   2   1   3   3  ...    1    3    2   \n",
       "4      GUIDE_0002   5   4   4   3   5   5   3   4   4  ...    3    4    2   \n",
       "...           ...  ..  ..  ..  ..  ..  ..  ..  ..  ..  ...  ...  ...  ...   \n",
       "10573  GUIDE_1323   2   3   4   4   3   2   2   3   3  ...    2    3    3   \n",
       "10574  GUIDE_1323   2   4   4   4   4   4   4   4   3  ...    3    3    3   \n",
       "10575  GUIDE_1323   4   3   4   4   1   3   1   3   2  ...    1    2    2   \n",
       "10576  GUIDE_1324   4   4   4   5   4   4   4   4   4  ...    4    3    3   \n",
       "10577  GUIDE_1324   5   3   5   4   4   3   3   5   4  ...    4    4    4   \n",
       "\n",
       "       Basic_Skills_Avg  Nature_Knowledge_Avg  Interpretation_Avg  \\\n",
       "0                  3.00                  2.00                2.50   \n",
       "1                  3.75                  3.50                3.50   \n",
       "2                  3.00                  2.50                3.25   \n",
       "3                  2.25                  2.00                2.50   \n",
       "4                  4.00                  4.25                4.00   \n",
       "...                 ...                   ...                 ...   \n",
       "10573              3.25                  2.50                3.75   \n",
       "10574              3.50                  4.00                3.00   \n",
       "10575              3.75                  2.00                3.25   \n",
       "10576              4.25                  4.00                3.50   \n",
       "10577              4.25                  3.75                4.50   \n",
       "\n",
       "       Leadership_Safety_Avg  Cultural_Expertise_Avg  Overall_Average  \\\n",
       "0                      2.500                2.333333         2.461538   \n",
       "1                      3.000                3.166667         3.307692   \n",
       "2                      3.125                2.166667         2.807692   \n",
       "3                      2.000                2.000000         2.115385   \n",
       "4                      3.250                3.166667         3.615385   \n",
       "...                      ...                     ...              ...   \n",
       "10573                  2.750                2.500000         2.884615   \n",
       "10574                  3.000                3.333333         3.307692   \n",
       "10575                  3.000                2.166667         2.807692   \n",
       "10576                  3.125                3.000000         3.461538   \n",
       "10577                  3.875                4.000000         4.038462   \n",
       "\n",
       "                                      Recommended_Course  \n",
       "0                              Nature Guide Fundamentals  \n",
       "1           Advanced Park Guiding: Leadership and Safety  \n",
       "2                Master Park Guide Certification Program  \n",
       "3                              Nature Guide Fundamentals  \n",
       "4                Master Park Guide Certification Program  \n",
       "...                                                  ...  \n",
       "10573                          Nature Guide Fundamentals  \n",
       "10574  Eco-Guide Training: Field & Interpretation Skills  \n",
       "10575                          Nature Guide Fundamentals  \n",
       "10576            Master Park Guide Certification Program  \n",
       "10577      Explore & Lead: Park Guide Mentorship Journey  \n",
       "\n",
       "[10578 rows x 34 columns]"
      ],
      "text/html": [
       "<div>\n",
       "<style scoped>\n",
       "    .dataframe tbody tr th:only-of-type {\n",
       "        vertical-align: middle;\n",
       "    }\n",
       "\n",
       "    .dataframe tbody tr th {\n",
       "        vertical-align: top;\n",
       "    }\n",
       "\n",
       "    .dataframe thead th {\n",
       "        text-align: right;\n",
       "    }\n",
       "</style>\n",
       "<table border=\"1\" class=\"dataframe\">\n",
       "  <thead>\n",
       "    <tr style=\"text-align: right;\">\n",
       "      <th></th>\n",
       "      <th>Guide_ID</th>\n",
       "      <th>Q1</th>\n",
       "      <th>Q2</th>\n",
       "      <th>Q3</th>\n",
       "      <th>Q4</th>\n",
       "      <th>Q5</th>\n",
       "      <th>Q6</th>\n",
       "      <th>Q7</th>\n",
       "      <th>Q8</th>\n",
       "      <th>Q9</th>\n",
       "      <th>...</th>\n",
       "      <th>Q24</th>\n",
       "      <th>Q25</th>\n",
       "      <th>Q26</th>\n",
       "      <th>Basic_Skills_Avg</th>\n",
       "      <th>Nature_Knowledge_Avg</th>\n",
       "      <th>Interpretation_Avg</th>\n",
       "      <th>Leadership_Safety_Avg</th>\n",
       "      <th>Cultural_Expertise_Avg</th>\n",
       "      <th>Overall_Average</th>\n",
       "      <th>Recommended_Course</th>\n",
       "    </tr>\n",
       "  </thead>\n",
       "  <tbody>\n",
       "    <tr>\n",
       "      <th>0</th>\n",
       "      <td>GUIDE_0002</td>\n",
       "      <td>2</td>\n",
       "      <td>3</td>\n",
       "      <td>3</td>\n",
       "      <td>4</td>\n",
       "      <td>2</td>\n",
       "      <td>2</td>\n",
       "      <td>2</td>\n",
       "      <td>2</td>\n",
       "      <td>1</td>\n",
       "      <td>...</td>\n",
       "      <td>3</td>\n",
       "      <td>2</td>\n",
       "      <td>2</td>\n",
       "      <td>3.00</td>\n",
       "      <td>2.00</td>\n",
       "      <td>2.50</td>\n",
       "      <td>2.500</td>\n",
       "      <td>2.333333</td>\n",
       "      <td>2.461538</td>\n",
       "      <td>Nature Guide Fundamentals</td>\n",
       "    </tr>\n",
       "    <tr>\n",
       "      <th>1</th>\n",
       "      <td>GUIDE_0002</td>\n",
       "      <td>4</td>\n",
       "      <td>3</td>\n",
       "      <td>4</td>\n",
       "      <td>4</td>\n",
       "      <td>4</td>\n",
       "      <td>4</td>\n",
       "      <td>3</td>\n",
       "      <td>3</td>\n",
       "      <td>3</td>\n",
       "      <td>...</td>\n",
       "      <td>3</td>\n",
       "      <td>3</td>\n",
       "      <td>3</td>\n",
       "      <td>3.75</td>\n",
       "      <td>3.50</td>\n",
       "      <td>3.50</td>\n",
       "      <td>3.000</td>\n",
       "      <td>3.166667</td>\n",
       "      <td>3.307692</td>\n",
       "      <td>Advanced Park Guiding: Leadership and Safety</td>\n",
       "    </tr>\n",
       "    <tr>\n",
       "      <th>2</th>\n",
       "      <td>GUIDE_0002</td>\n",
       "      <td>4</td>\n",
       "      <td>3</td>\n",
       "      <td>3</td>\n",
       "      <td>2</td>\n",
       "      <td>2</td>\n",
       "      <td>3</td>\n",
       "      <td>3</td>\n",
       "      <td>2</td>\n",
       "      <td>3</td>\n",
       "      <td>...</td>\n",
       "      <td>2</td>\n",
       "      <td>3</td>\n",
       "      <td>2</td>\n",
       "      <td>3.00</td>\n",
       "      <td>2.50</td>\n",
       "      <td>3.25</td>\n",
       "      <td>3.125</td>\n",
       "      <td>2.166667</td>\n",
       "      <td>2.807692</td>\n",
       "      <td>Master Park Guide Certification Program</td>\n",
       "    </tr>\n",
       "    <tr>\n",
       "      <th>3</th>\n",
       "      <td>GUIDE_0002</td>\n",
       "      <td>1</td>\n",
       "      <td>2</td>\n",
       "      <td>4</td>\n",
       "      <td>2</td>\n",
       "      <td>2</td>\n",
       "      <td>2</td>\n",
       "      <td>1</td>\n",
       "      <td>3</td>\n",
       "      <td>3</td>\n",
       "      <td>...</td>\n",
       "      <td>1</td>\n",
       "      <td>3</td>\n",
       "      <td>2</td>\n",
       "      <td>2.25</td>\n",
       "      <td>2.00</td>\n",
       "      <td>2.50</td>\n",
       "      <td>2.000</td>\n",
       "      <td>2.000000</td>\n",
       "      <td>2.115385</td>\n",
       "      <td>Nature Guide Fundamentals</td>\n",
       "    </tr>\n",
       "    <tr>\n",
       "      <th>4</th>\n",
       "      <td>GUIDE_0002</td>\n",
       "      <td>5</td>\n",
       "      <td>4</td>\n",
       "      <td>4</td>\n",
       "      <td>3</td>\n",
       "      <td>5</td>\n",
       "      <td>5</td>\n",
       "      <td>3</td>\n",
       "      <td>4</td>\n",
       "      <td>4</td>\n",
       "      <td>...</td>\n",
       "      <td>3</td>\n",
       "      <td>4</td>\n",
       "      <td>2</td>\n",
       "      <td>4.00</td>\n",
       "      <td>4.25</td>\n",
       "      <td>4.00</td>\n",
       "      <td>3.250</td>\n",
       "      <td>3.166667</td>\n",
       "      <td>3.615385</td>\n",
       "      <td>Master Park Guide Certification Program</td>\n",
       "    </tr>\n",
       "    <tr>\n",
       "      <th>...</th>\n",
       "      <td>...</td>\n",
       "      <td>...</td>\n",
       "      <td>...</td>\n",
       "      <td>...</td>\n",
       "      <td>...</td>\n",
       "      <td>...</td>\n",
       "      <td>...</td>\n",
       "      <td>...</td>\n",
       "      <td>...</td>\n",
       "      <td>...</td>\n",
       "      <td>...</td>\n",
       "      <td>...</td>\n",
       "      <td>...</td>\n",
       "      <td>...</td>\n",
       "      <td>...</td>\n",
       "      <td>...</td>\n",
       "      <td>...</td>\n",
       "      <td>...</td>\n",
       "      <td>...</td>\n",
       "      <td>...</td>\n",
       "      <td>...</td>\n",
       "    </tr>\n",
       "    <tr>\n",
       "      <th>10573</th>\n",
       "      <td>GUIDE_1323</td>\n",
       "      <td>2</td>\n",
       "      <td>3</td>\n",
       "      <td>4</td>\n",
       "      <td>4</td>\n",
       "      <td>3</td>\n",
       "      <td>2</td>\n",
       "      <td>2</td>\n",
       "      <td>3</td>\n",
       "      <td>3</td>\n",
       "      <td>...</td>\n",
       "      <td>2</td>\n",
       "      <td>3</td>\n",
       "      <td>3</td>\n",
       "      <td>3.25</td>\n",
       "      <td>2.50</td>\n",
       "      <td>3.75</td>\n",
       "      <td>2.750</td>\n",
       "      <td>2.500000</td>\n",
       "      <td>2.884615</td>\n",
       "      <td>Nature Guide Fundamentals</td>\n",
       "    </tr>\n",
       "    <tr>\n",
       "      <th>10574</th>\n",
       "      <td>GUIDE_1323</td>\n",
       "      <td>2</td>\n",
       "      <td>4</td>\n",
       "      <td>4</td>\n",
       "      <td>4</td>\n",
       "      <td>4</td>\n",
       "      <td>4</td>\n",
       "      <td>4</td>\n",
       "      <td>4</td>\n",
       "      <td>3</td>\n",
       "      <td>...</td>\n",
       "      <td>3</td>\n",
       "      <td>3</td>\n",
       "      <td>3</td>\n",
       "      <td>3.50</td>\n",
       "      <td>4.00</td>\n",
       "      <td>3.00</td>\n",
       "      <td>3.000</td>\n",
       "      <td>3.333333</td>\n",
       "      <td>3.307692</td>\n",
       "      <td>Eco-Guide Training: Field &amp; Interpretation Skills</td>\n",
       "    </tr>\n",
       "    <tr>\n",
       "      <th>10575</th>\n",
       "      <td>GUIDE_1323</td>\n",
       "      <td>4</td>\n",
       "      <td>3</td>\n",
       "      <td>4</td>\n",
       "      <td>4</td>\n",
       "      <td>1</td>\n",
       "      <td>3</td>\n",
       "      <td>1</td>\n",
       "      <td>3</td>\n",
       "      <td>2</td>\n",
       "      <td>...</td>\n",
       "      <td>1</td>\n",
       "      <td>2</td>\n",
       "      <td>2</td>\n",
       "      <td>3.75</td>\n",
       "      <td>2.00</td>\n",
       "      <td>3.25</td>\n",
       "      <td>3.000</td>\n",
       "      <td>2.166667</td>\n",
       "      <td>2.807692</td>\n",
       "      <td>Nature Guide Fundamentals</td>\n",
       "    </tr>\n",
       "    <tr>\n",
       "      <th>10576</th>\n",
       "      <td>GUIDE_1324</td>\n",
       "      <td>4</td>\n",
       "      <td>4</td>\n",
       "      <td>4</td>\n",
       "      <td>5</td>\n",
       "      <td>4</td>\n",
       "      <td>4</td>\n",
       "      <td>4</td>\n",
       "      <td>4</td>\n",
       "      <td>4</td>\n",
       "      <td>...</td>\n",
       "      <td>4</td>\n",
       "      <td>3</td>\n",
       "      <td>3</td>\n",
       "      <td>4.25</td>\n",
       "      <td>4.00</td>\n",
       "      <td>3.50</td>\n",
       "      <td>3.125</td>\n",
       "      <td>3.000000</td>\n",
       "      <td>3.461538</td>\n",
       "      <td>Master Park Guide Certification Program</td>\n",
       "    </tr>\n",
       "    <tr>\n",
       "      <th>10577</th>\n",
       "      <td>GUIDE_1324</td>\n",
       "      <td>5</td>\n",
       "      <td>3</td>\n",
       "      <td>5</td>\n",
       "      <td>4</td>\n",
       "      <td>4</td>\n",
       "      <td>3</td>\n",
       "      <td>3</td>\n",
       "      <td>5</td>\n",
       "      <td>4</td>\n",
       "      <td>...</td>\n",
       "      <td>4</td>\n",
       "      <td>4</td>\n",
       "      <td>4</td>\n",
       "      <td>4.25</td>\n",
       "      <td>3.75</td>\n",
       "      <td>4.50</td>\n",
       "      <td>3.875</td>\n",
       "      <td>4.000000</td>\n",
       "      <td>4.038462</td>\n",
       "      <td>Explore &amp; Lead: Park Guide Mentorship Journey</td>\n",
       "    </tr>\n",
       "  </tbody>\n",
       "</table>\n",
       "<p>10578 rows × 34 columns</p>\n",
       "</div>"
      ]
     },
     "execution_count": 2,
     "metadata": {},
     "output_type": "execute_result"
    }
   ],
   "execution_count": 2
  },
  {
   "metadata": {
    "ExecuteTime": {
     "end_time": "2025-05-26T21:15:42.983442Z",
     "start_time": "2025-05-26T21:15:42.978023Z"
    }
   },
   "cell_type": "code",
   "source": [
    "users = sorted(df['Guide_ID'].unique())\n",
    "courses = sorted(df['Recommended_Course'].unique())\n",
    "\n",
    "user_to_idx = {user: idx for idx, user in enumerate(users)}\n",
    "course_to_idx = {course: idx for idx, course in enumerate(courses)}\n",
    "idx_to_user = {idx: user for user, idx in user_to_idx.items()}\n",
    "idx_to_course = {idx: course for course, idx in course_to_idx.items()}\n",
    "\n",
    "print(f\"Users: {len(users)}, Courses: {len(courses)}\")\n",
    "print(\"Courses:\", courses)"
   ],
   "id": "6dd37a7b229d54df",
   "outputs": [
    {
     "name": "stdout",
     "output_type": "stream",
     "text": [
      "Users: 1323, Courses: 7\n",
      "Courses: ['Advanced Park Guiding: Leadership and Safety', 'Eco-Guide Training: Field & Interpretation Skills', 'Explore & Lead: Park Guide Mentorship Journey', 'Introduction to Park Guiding', 'Master Park Guide Certification Program', 'Nature Guide Fundamentals', 'Park Guide in Training: Learn from the Pros']\n"
     ]
    }
   ],
   "execution_count": 3
  },
  {
   "metadata": {
    "ExecuteTime": {
     "end_time": "2025-05-26T21:15:43.220457Z",
     "start_time": "2025-05-26T21:15:43.064032Z"
    }
   },
   "cell_type": "code",
   "source": [
    "user_item_matrix = np.zeros((len(users), len(courses)))\n",
    "\n",
    "for _, row in df.iterrows():\n",
    "    user_idx = user_to_idx[row['Guide_ID']]\n",
    "    course_idx = course_to_idx[row['Recommended_Course']]\n",
    "    user_item_matrix[user_idx, course_idx] = 1\n",
    "\n",
    "print(f\"User-item matrix created: {user_item_matrix.shape}\")\n",
    "print(f\"Matrix density: {(np.sum(user_item_matrix) / user_item_matrix.size * 100):.1f}%\")"
   ],
   "id": "d8a86934ac1a08d3",
   "outputs": [
    {
     "name": "stdout",
     "output_type": "stream",
     "text": [
      "User-item matrix created: (1323, 7)\n",
      "Matrix density: 64.1%\n"
     ]
    }
   ],
   "execution_count": 4
  },
  {
   "metadata": {},
   "cell_type": "markdown",
   "source": "## 2. TRAIN MATRIX FACTORIZATION MODEL",
   "id": "27fed8540cca5e1b"
  },
  {
   "metadata": {
    "ExecuteTime": {
     "end_time": "2025-05-26T21:15:43.303915Z",
     "start_time": "2025-05-26T21:15:43.296348Z"
    }
   },
   "cell_type": "code",
   "source": [
    "print(\"\\nTraining Matrix Factorization...\")\n",
    "\n",
    "mf_model = NMF(n_components=5, random_state=42, max_iter=200)\n",
    "user_factors = mf_model.fit_transform(user_item_matrix + 0.01)\n",
    "item_factors = mf_model.components_.T\n",
    "\n",
    "print(f\"MF Model trained - User factors: {user_factors.shape}, Item factors: {item_factors.shape}\")"
   ],
   "id": "d1afed14085343d9",
   "outputs": [
    {
     "name": "stdout",
     "output_type": "stream",
     "text": [
      "\n",
      "Training Matrix Factorization...\n",
      "MF Model trained - User factors: (1323, 5), Item factors: (7, 5)\n"
     ]
    }
   ],
   "execution_count": 5
  },
  {
   "metadata": {},
   "cell_type": "markdown",
   "source": "## 3. TRAIN K-NN MODEL",
   "id": "d92c4a5747a0bf40"
  },
  {
   "metadata": {
    "ExecuteTime": {
     "end_time": "2025-05-26T21:15:43.324101Z",
     "start_time": "2025-05-26T21:15:43.320523Z"
    }
   },
   "cell_type": "code",
   "source": [
    "print(\"\\nTraining k-NN Model...\")\n",
    "\n",
    "knn_model = NearestNeighbors(n_neighbors=10, metric='cosine')\n",
    "knn_model.fit(user_item_matrix)\n",
    "\n",
    "print(\"k-NN Model trained\")"
   ],
   "id": "243da85d337ff55d",
   "outputs": [
    {
     "name": "stdout",
     "output_type": "stream",
     "text": [
      "\n",
      "Training k-NN Model...\n",
      "k-NN Model trained\n"
     ]
    }
   ],
   "execution_count": 6
  },
  {
   "metadata": {},
   "cell_type": "markdown",
   "source": "## 4. CREATE HYBRID RECOMMENDER CLASS",
   "id": "e5ff6e71be926132"
  },
  {
   "metadata": {
    "ExecuteTime": {
     "end_time": "2025-05-26T21:15:43.362187Z",
     "start_time": "2025-05-26T21:15:43.356818Z"
    }
   },
   "cell_type": "code",
   "source": [
    "class SimpleHybridRecommender:\n",
    "    def __init__(self, mf_model, knn_model, user_factors, item_factors,\n",
    "                 user_to_idx, course_to_idx, idx_to_user, idx_to_course, user_item_matrix):\n",
    "        self.mf_model = mf_model\n",
    "        self.knn_model = knn_model\n",
    "        self.user_factors = user_factors\n",
    "        self.item_factors = item_factors\n",
    "        self.user_to_idx = user_to_idx\n",
    "        self.course_to_idx = course_to_idx\n",
    "        self.idx_to_user = idx_to_user\n",
    "        self.idx_to_course = idx_to_course\n",
    "        self.user_item_matrix = user_item_matrix\n",
    "\n",
    "        self.mf_weight = 0.6\n",
    "        self.knn_weight = 0.4\n",
    "\n",
    "    def predict_mf_score(self, user_idx, course_idx):\n",
    "        \"\"\"Matrix Factorization prediction\"\"\"\n",
    "        return np.dot(self.user_factors[user_idx], self.item_factors[course_idx])\n",
    "\n",
    "    def predict_knn_score(self, user_idx, course_idx):\n",
    "        \"\"\"k-NN collaborative filtering prediction\"\"\"\n",
    "        distances, indices = self.knn_model.kneighbors([self.user_item_matrix[user_idx]])\n",
    "\n",
    "        similar_users = indices[0]\n",
    "        similar_distances = distances[0]\n",
    "\n",
    "        weighted_sum = 0\n",
    "        weight_sum = 0\n",
    "\n",
    "        for i, similar_user_idx in enumerate(similar_users):\n",
    "            if similar_user_idx != user_idx:\n",
    "                similarity = 1 / (1 + similar_distances[i])\n",
    "                rating = self.user_item_matrix[similar_user_idx, course_idx]\n",
    "                weighted_sum += similarity * rating\n",
    "                weight_sum += similarity\n",
    "\n",
    "        return weighted_sum / weight_sum if weight_sum > 0 else 0\n",
    "\n",
    "    def get_recommendations(self, user_id, n_recommendations=5):\n",
    "        \"\"\"Get hybrid recommendations for a user\"\"\"\n",
    "        if user_id not in self.user_to_idx:\n",
    "            return self._get_popular_courses(n_recommendations)\n",
    "\n",
    "        user_idx = self.user_to_idx[user_id]\n",
    "        recommendations = []\n",
    "\n",
    "        user_courses = self.user_item_matrix[user_idx]\n",
    "\n",
    "        for course_idx, course_id in self.idx_to_course.items():\n",
    "            if user_courses[course_idx] == 0:\n",
    "                mf_score = self.predict_mf_score(user_idx, course_idx)\n",
    "                knn_score = self.predict_knn_score(user_idx, course_idx)\n",
    "\n",
    "                hybrid_score = (self.mf_weight * mf_score + self.knn_weight * knn_score)\n",
    "\n",
    "                recommendations.append({\n",
    "                    'course_id': course_id,\n",
    "                    'score': float(hybrid_score),\n",
    "                    'mf_score': float(mf_score),\n",
    "                    'knn_score': float(knn_score)\n",
    "                })\n",
    "\n",
    "        recommendations.sort(key=lambda x: x['score'], reverse=True)\n",
    "        return recommendations[:n_recommendations]\n",
    "\n",
    "    def _get_popular_courses(self, n_recommendations):\n",
    "        \"\"\"Fallback for new users - return most popular courses\"\"\"\n",
    "        course_popularity = np.sum(self.user_item_matrix, axis=0)\n",
    "        popular_indices = np.argsort(course_popularity)[::-1]\n",
    "\n",
    "        popular_courses = []\n",
    "        for i in range(min(n_recommendations, len(popular_indices))):\n",
    "            course_idx = popular_indices[i]\n",
    "            course_id = self.idx_to_course[course_idx]\n",
    "            popularity_score = course_popularity[course_idx] / len(self.user_to_idx)\n",
    "\n",
    "            popular_courses.append({\n",
    "                'course_id': course_id,\n",
    "                'score': float(popularity_score),\n",
    "                'mf_score': float(popularity_score),\n",
    "                'knn_score': float(popularity_score),\n",
    "                'reason': 'popular'\n",
    "            })\n",
    "\n",
    "        return popular_courses"
   ],
   "id": "49958b3b79291cc6",
   "outputs": [],
   "execution_count": 7
  },
  {
   "metadata": {},
   "cell_type": "markdown",
   "source": "## 5. CREATE AND TEST HYBRID MODEL",
   "id": "1f15fb4876c494c9"
  },
  {
   "metadata": {
    "ExecuteTime": {
     "end_time": "2025-05-26T21:15:43.393857Z",
     "start_time": "2025-05-26T21:15:43.390765Z"
    }
   },
   "cell_type": "code",
   "source": [
    "print(\"\\nCreating Hybrid Recommender...\")\n",
    "\n",
    "hybrid_model = SimpleHybridRecommender(\n",
    "    mf_model, knn_model, user_factors, item_factors,\n",
    "    user_to_idx, course_to_idx, idx_to_user, idx_to_course, user_item_matrix\n",
    ")\n",
    "\n",
    "print(\"Hybrid model created\")"
   ],
   "id": "c6fdc7ecb6034479",
   "outputs": [
    {
     "name": "stdout",
     "output_type": "stream",
     "text": [
      "\n",
      "Creating Hybrid Recommender...\n",
      "Hybrid model created\n"
     ]
    }
   ],
   "execution_count": 8
  },
  {
   "metadata": {
    "ExecuteTime": {
     "end_time": "2025-05-26T21:15:43.413283Z",
     "start_time": "2025-05-26T21:15:43.410808Z"
    }
   },
   "cell_type": "code",
   "source": [
    "test_user = users[0]\n",
    "print(f\"\\nTesting with user: {test_user}\")\n",
    "\n",
    "current_courses = []\n",
    "user_idx = user_to_idx[test_user]\n",
    "for course_idx, rating in enumerate(user_item_matrix[user_idx]):\n",
    "    if rating > 0:\n",
    "        current_courses.append(idx_to_course[course_idx])\n",
    "\n",
    "print(\"Current courses:\", current_courses)"
   ],
   "id": "554e1c4c89752896",
   "outputs": [
    {
     "name": "stdout",
     "output_type": "stream",
     "text": [
      "\n",
      "Testing with user: GUIDE_0002\n",
      "Current courses: ['Advanced Park Guiding: Leadership and Safety', 'Eco-Guide Training: Field & Interpretation Skills', 'Explore & Lead: Park Guide Mentorship Journey', 'Master Park Guide Certification Program', 'Nature Guide Fundamentals']\n"
     ]
    }
   ],
   "execution_count": 9
  },
  {
   "metadata": {
    "ExecuteTime": {
     "end_time": "2025-05-26T21:15:43.441064Z",
     "start_time": "2025-05-26T21:15:43.436339Z"
    }
   },
   "cell_type": "code",
   "source": [
    "recommendations = hybrid_model.get_recommendations(test_user, n_recommendations=3)\n",
    "print(\"\\nRecommendations:\")\n",
    "for i, rec in enumerate(recommendations, 1):\n",
    "    print(f\"{i}. {rec['course_id']} (Score: {rec['score']:.3f})\")"
   ],
   "id": "ff8224f25233e702",
   "outputs": [
    {
     "name": "stdout",
     "output_type": "stream",
     "text": [
      "\n",
      "Recommendations:\n",
      "1. Park Guide in Training: Learn from the Pros (Score: 0.073)\n",
      "2. Introduction to Park Guiding (Score: 0.016)\n"
     ]
    }
   ],
   "execution_count": 10
  },
  {
   "metadata": {},
   "cell_type": "markdown",
   "source": "## 6. EVALUATE MODEL",
   "id": "128f61b2a72130ed"
  },
  {
   "metadata": {
    "ExecuteTime": {
     "end_time": "2025-05-26T21:15:43.515719Z",
     "start_time": "2025-05-26T21:15:43.472628Z"
    }
   },
   "cell_type": "code",
   "source": [
    "print(\"\\nEvaluating Model...\")\n",
    "\n",
    "sample_interactions = []\n",
    "for user_idx in range(min(50, len(users))):\n",
    "    for course_idx in range(len(courses)):\n",
    "        if user_item_matrix[user_idx, course_idx] > 0:\n",
    "            sample_interactions.append((user_idx, course_idx, 1))\n",
    "\n",
    "predictions = []\n",
    "actuals = []\n",
    "\n",
    "for user_idx, course_idx, actual in sample_interactions[:100]:\n",
    "    mf_pred = np.dot(user_factors[user_idx], item_factors[course_idx])\n",
    "    knn_pred = hybrid_model.predict_knn_score(user_idx, course_idx)\n",
    "    hybrid_pred = 0.6 * mf_pred + 0.4 * knn_pred\n",
    "\n",
    "    predictions.append(hybrid_pred)\n",
    "    actuals.append(actual)\n",
    "\n",
    "mae = mean_absolute_error(actuals, predictions)\n",
    "print(f\"Model MAE: {mae:.4f}\")"
   ],
   "id": "c61c247c1092d66",
   "outputs": [
    {
     "name": "stdout",
     "output_type": "stream",
     "text": [
      "\n",
      "Evaluating Model...\n",
      "Model MAE: 0.0526\n"
     ]
    }
   ],
   "execution_count": 11
  },
  {
   "metadata": {},
   "cell_type": "markdown",
   "source": "## 7. EXPORT MODEL",
   "id": "eba8623a8379d80"
  },
  {
   "metadata": {
    "ExecuteTime": {
     "end_time": "2025-05-26T21:15:43.543894Z",
     "start_time": "2025-05-26T21:15:43.538417Z"
    }
   },
   "cell_type": "code",
   "source": [
    "print(\"\\nExporting Model...\")\n",
    "\n",
    "with open('models/hybrid_recommender.pkl', 'wb') as f:\n",
    "    pickle.dump(hybrid_model, f)\n",
    "\n",
    "with open('models/user_mappings.pkl', 'wb') as f:\n",
    "    pickle.dump({'user_to_idx': user_to_idx, 'idx_to_user': idx_to_user}, f)\n",
    "\n",
    "with open('models/course_mappings.pkl', 'wb') as f:\n",
    "    pickle.dump({'course_to_idx': course_to_idx, 'idx_to_course': idx_to_course}, f)\n",
    "\n",
    "metadata = {\n",
    "    'model_type': 'hybrid_mf_knn',\n",
    "    'num_users': len(users),\n",
    "    'num_courses': len(courses),\n",
    "    'courses': courses,\n",
    "    'mf_components': 5,\n",
    "    'knn_neighbors': 10,\n",
    "    'mf_weight': 0.6,\n",
    "    'knn_weight': 0.4,\n",
    "    'mae': mae,\n",
    "    'matrix_density': float(np.sum(user_item_matrix) / user_item_matrix.size),\n",
    "    'created_at': pd.Timestamp.now().isoformat()\n",
    "}\n",
    "\n",
    "with open('models/model_metadata.json', 'w') as f:\n",
    "    json.dump(metadata, f, indent=2)\n",
    "\n",
    "print(\"Model exported successfully!\")\n",
    "print(\"Files created:\")\n",
    "print(\"  - models/hybrid_recommender.pkl\")\n",
    "print(\"  - models/user_mappings.pkl\")\n",
    "print(\"  - models/course_mappings.pkl\")\n",
    "print(\"  - models/model_metadata.json\")\n",
    "\n",
    "print(f\"\\n Training Complete! MAE: {mae:.4f}\")\n",
    "print(\"Ready to integrate with FastAPI backend!\")"
   ],
   "id": "10cd1c52651b50b2",
   "outputs": [
    {
     "name": "stdout",
     "output_type": "stream",
     "text": [
      "\n",
      "Exporting Model...\n",
      "Model exported successfully!\n",
      "Files created:\n",
      "  - models/hybrid_recommender.pkl\n",
      "  - models/user_mappings.pkl\n",
      "  - models/course_mappings.pkl\n",
      "  - models/model_metadata.json\n",
      "\n",
      " Training Complete! MAE: 0.0526\n",
      "Ready to integrate with FastAPI backend!\n"
     ]
    }
   ],
   "execution_count": 12
  }
 ],
 "metadata": {
  "kernelspec": {
   "display_name": "Python 3",
   "language": "python",
   "name": "python3"
  },
  "language_info": {
   "codemirror_mode": {
    "name": "ipython",
    "version": 2
   },
   "file_extension": ".py",
   "mimetype": "text/x-python",
   "name": "python",
   "nbconvert_exporter": "python",
   "pygments_lexer": "ipython2",
   "version": "2.7.6"
  }
 },
 "nbformat": 4,
 "nbformat_minor": 5
}
